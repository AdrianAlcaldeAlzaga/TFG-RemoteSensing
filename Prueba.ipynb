{
 "cells": [
  {
   "cell_type": "code",
   "execution_count": 1,
   "id": "a748f081-e49b-4981-bda9-5ec870d7ca53",
   "metadata": {},
   "outputs": [],
   "source": [
    "#Importamos las librerías\n",
    "import ee\n",
    "import geemap"
   ]
  },
  {
   "cell_type": "code",
   "execution_count": 2,
   "id": "93557f72-cf39-4526-80ae-cefc20499c67",
   "metadata": {},
   "outputs": [
    {
     "data": {
      "text/html": [
       "\n",
       "            <style>\n",
       "                .geemap-dark {\n",
       "                    --jp-widgets-color: white;\n",
       "                    --jp-widgets-label-color: white;\n",
       "                    --jp-ui-font-color1: white;\n",
       "                    --jp-layout-color2: #454545;\n",
       "                    background-color: #383838;\n",
       "                }\n",
       "\n",
       "                .geemap-dark .jupyter-button {\n",
       "                    --jp-layout-color3: #383838;\n",
       "                }\n",
       "\n",
       "                .geemap-colab {\n",
       "                    background-color: var(--colab-primary-surface-color, white);\n",
       "                }\n",
       "\n",
       "                .geemap-colab .jupyter-button {\n",
       "                    --jp-layout-color3: var(--colab-primary-surface-color, white);\n",
       "                }\n",
       "            </style>\n",
       "            "
      ],
      "text/plain": [
       "<IPython.core.display.HTML object>"
      ]
     },
     "metadata": {},
     "output_type": "display_data"
    },
    {
     "data": {
      "text/plain": [
       "True"
      ]
     },
     "execution_count": 2,
     "metadata": {},
     "output_type": "execute_result"
    }
   ],
   "source": [
    "#Nos autenticamos y iniciamos ee\n",
    "ee.Authenticate()"
   ]
  },
  {
   "cell_type": "code",
   "execution_count": 3,
   "id": "a7b51468-4a5b-4c9e-b1b8-fd686ba338a0",
   "metadata": {},
   "outputs": [
    {
     "data": {
      "text/html": [
       "\n",
       "            <style>\n",
       "                .geemap-dark {\n",
       "                    --jp-widgets-color: white;\n",
       "                    --jp-widgets-label-color: white;\n",
       "                    --jp-ui-font-color1: white;\n",
       "                    --jp-layout-color2: #454545;\n",
       "                    background-color: #383838;\n",
       "                }\n",
       "\n",
       "                .geemap-dark .jupyter-button {\n",
       "                    --jp-layout-color3: #383838;\n",
       "                }\n",
       "\n",
       "                .geemap-colab {\n",
       "                    background-color: var(--colab-primary-surface-color, white);\n",
       "                }\n",
       "\n",
       "                .geemap-colab .jupyter-button {\n",
       "                    --jp-layout-color3: var(--colab-primary-surface-color, white);\n",
       "                }\n",
       "            </style>\n",
       "            "
      ],
      "text/plain": [
       "<IPython.core.display.HTML object>"
      ]
     },
     "metadata": {},
     "output_type": "display_data"
    }
   ],
   "source": [
    "ee.Initialize()"
   ]
  },
  {
   "cell_type": "code",
   "execution_count": 4,
   "id": "c25dc969-3653-443a-88b6-618a78d1dd8d",
   "metadata": {},
   "outputs": [
    {
     "data": {
      "text/html": [
       "\n",
       "            <style>\n",
       "                .geemap-dark {\n",
       "                    --jp-widgets-color: white;\n",
       "                    --jp-widgets-label-color: white;\n",
       "                    --jp-ui-font-color1: white;\n",
       "                    --jp-layout-color2: #454545;\n",
       "                    background-color: #383838;\n",
       "                }\n",
       "\n",
       "                .geemap-dark .jupyter-button {\n",
       "                    --jp-layout-color3: #383838;\n",
       "                }\n",
       "\n",
       "                .geemap-colab {\n",
       "                    background-color: var(--colab-primary-surface-color, white);\n",
       "                }\n",
       "\n",
       "                .geemap-colab .jupyter-button {\n",
       "                    --jp-layout-color3: var(--colab-primary-surface-color, white);\n",
       "                }\n",
       "            </style>\n",
       "            "
      ],
      "text/plain": [
       "<IPython.core.display.HTML object>"
      ]
     },
     "metadata": {},
     "output_type": "display_data"
    }
   ],
   "source": [
    "#Creamos nuestro primer mapa para visualizar\n",
    "Map = geemap.Map()"
   ]
  },
  {
   "cell_type": "code",
   "execution_count": 5,
   "id": "22f9af8c",
   "metadata": {},
   "outputs": [
    {
     "data": {
      "text/html": [
       "\n",
       "            <style>\n",
       "                .geemap-dark {\n",
       "                    --jp-widgets-color: white;\n",
       "                    --jp-widgets-label-color: white;\n",
       "                    --jp-ui-font-color1: white;\n",
       "                    --jp-layout-color2: #454545;\n",
       "                    background-color: #383838;\n",
       "                }\n",
       "\n",
       "                .geemap-dark .jupyter-button {\n",
       "                    --jp-layout-color3: #383838;\n",
       "                }\n",
       "\n",
       "                .geemap-colab {\n",
       "                    background-color: var(--colab-primary-surface-color, white);\n",
       "                }\n",
       "\n",
       "                .geemap-colab .jupyter-button {\n",
       "                    --jp-layout-color3: var(--colab-primary-surface-color, white);\n",
       "                }\n",
       "            </style>\n",
       "            "
      ],
      "text/plain": [
       "<IPython.core.display.HTML object>"
      ]
     },
     "metadata": {},
     "output_type": "display_data"
    },
    {
     "name": "stdout",
     "output_type": "stream",
     "text": [
      "Reflectancias medias en área 10x10 m: {'AOT': 182.5, 'B1': 1017.9795321637428, 'B11': 4085.5760233918127, 'B12': 2951.0058479532163, 'B2': 1620.3040935672516, 'B3': 1946.7894736842106, 'B4': 2615.0643274853796, 'B5': 3077.9853801169593, 'B6': 3199.472222222222, 'B7': 3412.980994152047, 'B8': 3452.5877192982457, 'B8A': 3751.3918128654973, 'B9': 3543.9269005847955, 'MSK_CLASSI_CIRRUS': 0, 'MSK_CLASSI_OPAQUE': 0, 'MSK_CLASSI_SNOW_ICE': 0, 'MSK_CLDPRB': 0, 'MSK_SNWPRB': 0, 'QA10': None, 'QA20': None, 'QA60': 0, 'SCL': 5, 'TCI_B': 165.280701754386, 'TCI_G': 198.23684210526318, 'TCI_R': 249.65204678362574, 'WVP': 1343.7134502923977}\n"
     ]
    }
   ],
   "source": [
    "# 1. Definir un punto (Vertedero de Burgos)\n",
    "\n",
    "point = ee.Geometry.Point([-3.663863749008054\n",
    ", 42.31458303530395])\n",
    "\n",
    "# Creamos un área de 10x10 metros alrededor del punto\n",
    "# Buffer de 5 m -> bounds() -> rectángulo de 10m x 10m\n",
    "aoi_10m = point.buffer(5).bounds()\n",
    "\n",
    "# 2. Cargar Sentinel-2 Harmonized\n",
    "s2 = (ee.ImageCollection(\"COPERNICUS/S2_SR_HARMONIZED\")\n",
    "      .filterDate(\"2025-01-01\", \"2025-10-01\")   # rango de fechas\n",
    "      .filterBounds(point)\n",
    "      .filter(ee.Filter.lte(\"CLOUDY_PIXEL_PERCENTAGE\", 5)))  # menos del 5% de nubes\n",
    "\n",
    "img_cant =  s2.count().getInfo()  # Número de imágenes\n",
    "# Sacamos la media imagen\n",
    "image = s2.median().clip(aoi_10m)\n",
    "\n",
    "# 3. Calcular reflectancias medias en el área 10x10 m\n",
    "\n",
    "vals = image.reduceRegion(\n",
    "    reducer=ee.Reducer.mean(),   \n",
    "    geometry=aoi_10m,\n",
    "    scale=10\n",
    ").getInfo()\n",
    "\n",
    "print(\"Reflectancias medias en área 10x10 m:\", vals)\n"
   ]
  },
  {
   "cell_type": "code",
   "execution_count": 6,
   "id": "f01790e8",
   "metadata": {},
   "outputs": [
    {
     "data": {
      "text/html": [
       "\n",
       "            <style>\n",
       "                .geemap-dark {\n",
       "                    --jp-widgets-color: white;\n",
       "                    --jp-widgets-label-color: white;\n",
       "                    --jp-ui-font-color1: white;\n",
       "                    --jp-layout-color2: #454545;\n",
       "                    background-color: #383838;\n",
       "                }\n",
       "\n",
       "                .geemap-dark .jupyter-button {\n",
       "                    --jp-layout-color3: #383838;\n",
       "                }\n",
       "\n",
       "                .geemap-colab {\n",
       "                    background-color: var(--colab-primary-surface-color, white);\n",
       "                }\n",
       "\n",
       "                .geemap-colab .jupyter-button {\n",
       "                    --jp-layout-color3: var(--colab-primary-surface-color, white);\n",
       "                }\n",
       "            </style>\n",
       "            "
      ],
      "text/plain": [
       "<IPython.core.display.HTML object>"
      ]
     },
     "metadata": {},
     "output_type": "display_data"
    }
   ],
   "source": [
    "# Convertimos el punto a proyección UTM (EPSG:25830)\n",
    "point_proj = point.transform('EPSG:25830', 1)\n",
    "\n",
    "coords = point_proj.coordinates().getInfo()\n",
    "x, y = coords  # en metros UTM\n",
    "\n",
    "cell_size = 10  # metros\n",
    "\n",
    "offsets = {\n",
    "    \"center\": (0, 0),\n",
    "    \"N\": (0, cell_size),\n",
    "    \"NE\": (cell_size, cell_size),\n",
    "    \"E\": (cell_size, 0),\n",
    "    \"SE\": (cell_size, -cell_size),\n",
    "    \"S\": (0, -cell_size),\n",
    "    \"SW\": (-cell_size, -cell_size),\n",
    "    \"W\": (-cell_size, 0),\n",
    "    \"NW\": (-cell_size, cell_size)\n",
    "}\n",
    "\n",
    "results_dict = {}\n",
    "\n",
    "for name, (dx, dy) in offsets.items():\n",
    "    shifted = ee.Geometry.Point([x + dx, y + dy], 'EPSG:25830')\n",
    "    aoi = shifted.buffer(5).bounds()\n",
    "\n",
    "    vals = image.reduceRegion(\n",
    "        reducer=ee.Reducer.mean(),\n",
    "        geometry=aoi,\n",
    "        scale=10,\n",
    "        crs='EPSG:25830',\n",
    "        maxPixels=1e9\n",
    "    ).getInfo()\n",
    "    \n",
    "    results_dict[name] = vals\n"
   ]
  },
  {
   "cell_type": "code",
   "execution_count": 7,
   "id": "9ec2299a",
   "metadata": {},
   "outputs": [
    {
     "data": {
      "text/html": [
       "\n",
       "            <style>\n",
       "                .geemap-dark {\n",
       "                    --jp-widgets-color: white;\n",
       "                    --jp-widgets-label-color: white;\n",
       "                    --jp-ui-font-color1: white;\n",
       "                    --jp-layout-color2: #454545;\n",
       "                    background-color: #383838;\n",
       "                }\n",
       "\n",
       "                .geemap-dark .jupyter-button {\n",
       "                    --jp-layout-color3: #383838;\n",
       "                }\n",
       "\n",
       "                .geemap-colab {\n",
       "                    background-color: var(--colab-primary-surface-color, white);\n",
       "                }\n",
       "\n",
       "                .geemap-colab .jupyter-button {\n",
       "                    --jp-layout-color3: var(--colab-primary-surface-color, white);\n",
       "                }\n",
       "            </style>\n",
       "            "
      ],
      "text/plain": [
       "<IPython.core.display.HTML object>"
      ]
     },
     "metadata": {},
     "output_type": "display_data"
    },
    {
     "name": "stdout",
     "output_type": "stream",
     "text": [
      "{'center': {'AOT': 182.5, 'B1': 1019.7569169960475, 'B11': 4100.683794466404, 'B12': 2993.916996047431, 'B2': 1646.7628458498025, 'B3': 1993.604743083004, 'B4': 2695.086956521739, 'B5': 3100.9644268774705, 'B6': 3234.448616600791, 'B7': 3447.195652173913, 'B8': 3539.505928853755, 'B8A': 3782.4960474308305, 'B9': 3593.693675889328, 'MSK_CLASSI_CIRRUS': 0, 'MSK_CLASSI_OPAQUE': 0, 'MSK_CLASSI_SNOW_ICE': 0, 'MSK_CLDPRB': 0, 'MSK_SNWPRB': 0, 'QA10': None, 'QA20': None, 'QA60': 0, 'SCL': 5, 'TCI_B': 168.08498023715413, 'TCI_G': 203.07509881422925, 'TCI_R': 251.99802371541503, 'WVP': 1346.887351778656}, 'N': {'AOT': 182.5, 'B1': 1028.5, 'B11': 4175, 'B12': 3205, 'B2': 1653.7578947368422, 'B3': 2047.105263157895, 'B4': 2827, 'B5': 3214, 'B6': 3406.5, 'B7': 3615.5, 'B8': 3697.9684210526316, 'B8A': 3935.5, 'B9': 3838.5, 'MSK_CLASSI_CIRRUS': 0, 'MSK_CLASSI_OPAQUE': 0, 'MSK_CLASSI_SNOW_ICE': 0, 'MSK_CLDPRB': 0, 'MSK_SNWPRB': 0, 'QA10': None, 'QA20': None, 'QA60': 0, 'SCL': 5, 'TCI_B': 168.87894736842105, 'TCI_G': 208.81052631578947, 'TCI_R': 255, 'WVP': 1362.5}, 'NE': {'AOT': 182.5, 'B1': 1028.5, 'B11': 4175, 'B12': 3205, 'B2': 1691, 'B3': 2099, 'B4': 2914, 'B5': 3214, 'B6': 3406.5, 'B7': 3615.5, 'B8': 3766.5, 'B8A': 3935.5, 'B9': 3838.5, 'MSK_CLASSI_CIRRUS': 0, 'MSK_CLASSI_OPAQUE': 0, 'MSK_CLASSI_SNOW_ICE': 0, 'MSK_CLDPRB': 0, 'MSK_SNWPRB': 0, 'QA10': None, 'QA20': None, 'QA60': 0, 'SCL': 5, 'TCI_B': 173, 'TCI_G': 214, 'TCI_R': 255, 'WVP': 1362.5}, 'E': {'AOT': 182.5, 'B1': 1019.7051282051282, 'B11': 4100.24358974359, 'B12': 2992.6666666666665, 'B2': 1696.0256410256409, 'B3': 2063.8205128205127, 'B4': 2800.2948717948716, 'B5': 3100.2948717948716, 'B6': 3233.429487179487, 'B7': 3446.1987179487182, 'B8': 3644.3141025641025, 'B8A': 3781.589743589743, 'B9': 3592.2435897435894, 'MSK_CLASSI_CIRRUS': 0, 'MSK_CLASSI_OPAQUE': 0, 'MSK_CLASSI_SNOW_ICE': 0, 'MSK_CLDPRB': 0, 'MSK_SNWPRB': 0, 'QA10': None, 'QA20': None, 'QA60': 0, 'SCL': 5, 'TCI_B': 173.31410256410257, 'TCI_G': 210.23076923076923, 'TCI_R': 255, 'WVP': 1346.7948717948716}, 'SE': {'AOT': 182.5, 'B1': 1014.5, 'B11': 4056, 'B12': 2867, 'B2': 1699, 'B3': 2043, 'B4': 2733, 'B5': 3033, 'B6': 3131, 'B7': 3346, 'B8': 3572, 'B8A': 3690.5, 'B9': 3446.5, 'MSK_CLASSI_CIRRUS': 0, 'MSK_CLASSI_OPAQUE': 0, 'MSK_CLASSI_SNOW_ICE': 0, 'MSK_CLDPRB': 0, 'MSK_SNWPRB': 0, 'QA10': None, 'QA20': None, 'QA60': 0, 'SCL': 5, 'TCI_B': 173.5, 'TCI_G': 208, 'TCI_R': 255, 'WVP': 1337.5}, 'S': {'AOT': 182.5, 'B1': 1014.5, 'B11': 4056, 'B12': 2867, 'B2': 1643.442105263158, 'B3': 1962.7157894736843, 'B4': 2617.6105263157897, 'B5': 3033, 'B6': 3131, 'B7': 3346, 'B8': 3446.2315789473687, 'B8A': 3690.5, 'B9': 3446.5, 'MSK_CLASSI_CIRRUS': 0, 'MSK_CLASSI_OPAQUE': 0, 'MSK_CLASSI_SNOW_ICE': 0, 'MSK_CLDPRB': 0, 'MSK_SNWPRB': 0, 'QA10': None, 'QA20': None, 'QA60': 0, 'SCL': 5, 'TCI_B': 167.70000000000002, 'TCI_G': 199.75789473684213, 'TCI_R': 250.26842105263157, 'WVP': 1337.5}, 'SW': {'AOT': 182.5, 'B1': 1014.5, 'B11': 4056, 'B12': 2867, 'B2': 1517, 'B3': 1780, 'B4': 2355, 'B5': 3033, 'B6': 3131, 'B7': 3346, 'B8': 3160, 'B8A': 3690.5, 'B9': 3446.5, 'MSK_CLASSI_CIRRUS': 0, 'MSK_CLASSI_OPAQUE': 0, 'MSK_CLASSI_SNOW_ICE': 0, 'MSK_CLDPRB': 0, 'MSK_SNWPRB': 0, 'QA10': None, 'QA20': None, 'QA60': 0, 'SCL': 5, 'TCI_B': 154.5, 'TCI_G': 181, 'TCI_R': 239.5, 'WVP': 1337.5}, 'W': {'AOT': 182.5, 'B1': 1019.7051282051282, 'B11': 4100.24358974359, 'B12': 2992.6666666666665, 'B2': 1536.3333333333333, 'B3': 1835.397435897436, 'B4': 2456.8717948717945, 'B5': 3100.2948717948716, 'B6': 3233.429487179487, 'B7': 3446.1987179487182, 'B8': 3302.0256410256407, 'B8A': 3781.589743589743, 'B9': 3592.2435897435894, 'MSK_CLASSI_CIRRUS': 0, 'MSK_CLASSI_OPAQUE': 0, 'MSK_CLASSI_SNOW_ICE': 0, 'MSK_CLDPRB': 0, 'MSK_SNWPRB': 0, 'QA10': None, 'QA20': None, 'QA60': 0, 'SCL': 5, 'TCI_B': 156.35897435897434, 'TCI_G': 186.94871794871796, 'TCI_R': 245.26282051282053, 'WVP': 1346.7948717948716}, 'NW': {'AOT': 182.5, 'B1': 1028.5, 'B11': 4175, 'B12': 3205, 'B2': 1569, 'B3': 1929, 'B4': 2629, 'B5': 3214, 'B6': 3406.5, 'B7': 3615.5, 'B8': 3542, 'B8A': 3935.5, 'B9': 3838.5, 'MSK_CLASSI_CIRRUS': 0, 'MSK_CLASSI_OPAQUE': 0, 'MSK_CLASSI_SNOW_ICE': 0, 'MSK_CLDPRB': 0, 'MSK_SNWPRB': 0, 'QA10': None, 'QA20': None, 'QA60': 0, 'SCL': 5, 'TCI_B': 159.5, 'TCI_G': 197, 'TCI_R': 255, 'WVP': 1362.5}}\n"
     ]
    }
   ],
   "source": [
    "print(results_dict)"
   ]
  },
  {
   "cell_type": "code",
   "execution_count": null,
   "id": "0af9f1d4",
   "metadata": {},
   "outputs": [
    {
     "data": {
      "text/html": [
       "\n",
       "            <style>\n",
       "                .geemap-dark {\n",
       "                    --jp-widgets-color: white;\n",
       "                    --jp-widgets-label-color: white;\n",
       "                    --jp-ui-font-color1: white;\n",
       "                    --jp-layout-color2: #454545;\n",
       "                    background-color: #383838;\n",
       "                }\n",
       "\n",
       "                .geemap-dark .jupyter-button {\n",
       "                    --jp-layout-color3: #383838;\n",
       "                }\n",
       "\n",
       "                .geemap-colab {\n",
       "                    background-color: var(--colab-primary-surface-color, white);\n",
       "                }\n",
       "\n",
       "                .geemap-colab .jupyter-button {\n",
       "                    --jp-layout-color3: var(--colab-primary-surface-color, white);\n",
       "                }\n",
       "            </style>\n",
       "            "
      ],
      "text/plain": [
       "<IPython.core.display.HTML object>"
      ]
     },
     "metadata": {},
     "output_type": "display_data"
    },
    {
     "ename": "KeyError",
     "evalue": "'center'",
     "output_type": "error",
     "traceback": [
      "\u001b[31m---------------------------------------------------------------------------\u001b[39m",
      "\u001b[31mKeyError\u001b[39m                                  Traceback (most recent call last)",
      "\u001b[36mCell\u001b[39m\u001b[36m \u001b[39m\u001b[32mIn[8]\u001b[39m\u001b[32m, line 16\u001b[39m\n\u001b[32m      9\u001b[39m cell_size_long = \u001b[32m10\u001b[39m / (\u001b[32m111000\u001b[39m * \u001b[38;5;28mabs\u001b[39m(lat * \u001b[32m3.14159\u001b[39m / \u001b[32m180\u001b[39m))  \u001b[38;5;66;03m# ajustado por latitud\u001b[39;00m\n\u001b[32m     12\u001b[39m offsets = {\n\u001b[32m     13\u001b[39m \n\u001b[32m     14\u001b[39m }\n\u001b[32m---> \u001b[39m\u001b[32m16\u001b[39m point = ee.Geometry.Point(\u001b[43moffsets\u001b[49m\u001b[43m[\u001b[49m\u001b[33;43m\"\u001b[39;49m\u001b[33;43mcenter\u001b[39;49m\u001b[33;43m\"\u001b[39;49m\u001b[43m]\u001b[49m)\n\u001b[32m     18\u001b[39m \u001b[38;5;66;03m# 2. Cargar Sentinel-2 Harmonized\u001b[39;00m\n\u001b[32m     19\u001b[39m s2 = (ee.ImageCollection(\u001b[33m\"\u001b[39m\u001b[33mCOPERNICUS/S2_SR_HARMONIZED\u001b[39m\u001b[33m\"\u001b[39m)\n\u001b[32m     20\u001b[39m       .filterDate(\u001b[33m\"\u001b[39m\u001b[33m2025-01-01\u001b[39m\u001b[33m\"\u001b[39m, \u001b[33m\"\u001b[39m\u001b[33m2025-10-01\u001b[39m\u001b[33m\"\u001b[39m)   \u001b[38;5;66;03m# rango de fechas\u001b[39;00m\n\u001b[32m     21\u001b[39m       .filterBounds(point)\n\u001b[32m     22\u001b[39m       .filter(ee.Filter.lte(\u001b[33m\"\u001b[39m\u001b[33mCLOUDY_PIXEL_PERCENTAGE\u001b[39m\u001b[33m\"\u001b[39m, \u001b[32m5\u001b[39m)))  \u001b[38;5;66;03m# menos del 5% de nubes\u001b[39;00m\n",
      "\u001b[31mKeyError\u001b[39m: 'center'"
     ]
    }
   ],
   "source": [
    "# 1. Definir un punto (Vertedero de Burgos)\n",
    "long = -3.663863749008054\n",
    "lat = 42.31458303530395\n",
    "\n",
    "# Convertir 10 metros a grados aproximadamente\n",
    "# 1 grado de latitud ≈ 111,000 metros\n",
    "# 1 grado de longitud ≈ 111,000 * cos(latitud) metros\n",
    "cell_size_lat = 10 / 111000  # ~0.00009 grados\n",
    "cell_size_long = 10 / (111000 * abs(lat * 3.14159 / 180))  # ajustado por latitud\n",
    "\n",
    "\n",
    "offsets = {\n",
    "    \"center\": (long, lat),\n",
    "    \"N\": (long, lat + cell_size_lat),\n",
    "    \"NE\": (long + cell_size_long, lat + cell_size_lat),\n",
    "    \"E\": (long + cell_size_long, lat),\n",
    "    \"SE\": (long + cell_size_long, lat - cell_size_lat),\n",
    "    \"S\": (long, lat - cell_size_lat),\n",
    "    \"SW\": (long - cell_size_long, lat - cell_size_lat),\n",
    "    \"W\": (long - cell_size_long, lat),\n",
    "    \"NW\": (long - cell_size_long, lat + cell_size_lat)\n",
    "}\n",
    "\n",
    "point = ee.Geometry.Point(offsets[\"center\"])\n",
    "\n",
    "# 2. Cargar Sentinel-2 Harmonized\n",
    "s2 = (ee.ImageCollection(\"COPERNICUS/S2_SR_HARMONIZED\")\n",
    "      .filterDate(\"2025-01-01\", \"2025-10-01\")   # rango de fechas\n",
    "      .filterBounds(point)\n",
    "      .filter(ee.Filter.lte(\"CLOUDY_PIXEL_PERCENTAGE\", 5)))  # menos del 5% de nubes\n",
    "\n",
    "image = s2.first()\n",
    "print(\"Imagen usada:\", image.get(\"PRODUCT_ID\").getInfo())\n",
    "\n",
    "results_dict = {}\n",
    "\n",
    "for name, coords in offsets.items():\n",
    "    # Creamos un punto y area para cada offset\n",
    "    point = ee.Geometry.Point(coords)\n",
    "    aoi = point.buffer(5).bounds()\n",
    "\n",
    "    # Extraemos las reflectancias medias\n",
    "    vals = image.reduceRegion(\n",
    "        reducer=ee.Reducer.mean(),\n",
    "        geometry=aoi,\n",
    "        scale=10\n",
    "    ).getInfo()\n",
    "    \n",
    "    results_dict[name] = vals\n",
    "    print(f\"Offset {name} ({coords[0]:.8f}, {coords[1]:.8f}): {vals}\")"
   ]
  },
  {
   "cell_type": "code",
   "execution_count": null,
   "id": "89c945ee",
   "metadata": {},
   "outputs": [],
   "source": []
  }
 ],
 "metadata": {
  "kernelspec": {
   "display_name": "mi_entorno",
   "language": "python",
   "name": "python3"
  },
  "language_info": {
   "codemirror_mode": {
    "name": "ipython",
    "version": 3
   },
   "file_extension": ".py",
   "mimetype": "text/x-python",
   "name": "python",
   "nbconvert_exporter": "python",
   "pygments_lexer": "ipython3",
   "version": "3.13.7"
  }
 },
 "nbformat": 4,
 "nbformat_minor": 5
}
