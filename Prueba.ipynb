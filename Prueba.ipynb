{
 "cells": [
  {
   "cell_type": "code",
   "execution_count": 3,
   "id": "a748f081-e49b-4981-bda9-5ec870d7ca53",
   "metadata": {},
   "outputs": [
    {
     "data": {
      "text/html": [
       "\n",
       "            <style>\n",
       "                .geemap-dark {\n",
       "                    --jp-widgets-color: white;\n",
       "                    --jp-widgets-label-color: white;\n",
       "                    --jp-ui-font-color1: white;\n",
       "                    --jp-layout-color2: #454545;\n",
       "                    background-color: #383838;\n",
       "                }\n",
       "\n",
       "                .geemap-dark .jupyter-button {\n",
       "                    --jp-layout-color3: #383838;\n",
       "                }\n",
       "\n",
       "                .geemap-colab {\n",
       "                    background-color: var(--colab-primary-surface-color, white);\n",
       "                }\n",
       "\n",
       "                .geemap-colab .jupyter-button {\n",
       "                    --jp-layout-color3: var(--colab-primary-surface-color, white);\n",
       "                }\n",
       "            </style>\n",
       "            "
      ],
      "text/plain": [
       "<IPython.core.display.HTML object>"
      ]
     },
     "metadata": {},
     "output_type": "display_data"
    }
   ],
   "source": [
    "#Importamos las librerías\n",
    "import ee\n",
    "import geemap"
   ]
  },
  {
   "cell_type": "code",
   "execution_count": 4,
   "id": "93557f72-cf39-4526-80ae-cefc20499c67",
   "metadata": {},
   "outputs": [
    {
     "data": {
      "text/html": [
       "\n",
       "            <style>\n",
       "                .geemap-dark {\n",
       "                    --jp-widgets-color: white;\n",
       "                    --jp-widgets-label-color: white;\n",
       "                    --jp-ui-font-color1: white;\n",
       "                    --jp-layout-color2: #454545;\n",
       "                    background-color: #383838;\n",
       "                }\n",
       "\n",
       "                .geemap-dark .jupyter-button {\n",
       "                    --jp-layout-color3: #383838;\n",
       "                }\n",
       "\n",
       "                .geemap-colab {\n",
       "                    background-color: var(--colab-primary-surface-color, white);\n",
       "                }\n",
       "\n",
       "                .geemap-colab .jupyter-button {\n",
       "                    --jp-layout-color3: var(--colab-primary-surface-color, white);\n",
       "                }\n",
       "            </style>\n",
       "            "
      ],
      "text/plain": [
       "<IPython.core.display.HTML object>"
      ]
     },
     "metadata": {},
     "output_type": "display_data"
    },
    {
     "data": {
      "text/html": [
       "<p>To authorize access needed by Earth Engine, open the following\n",
       "        URL in a web browser and follow the instructions:</p>\n",
       "        <p><a href=https://code.earthengine.google.com/client-auth?scopes=https%3A//www.googleapis.com/auth/earthengine%20https%3A//www.googleapis.com/auth/cloud-platform%20https%3A//www.googleapis.com/auth/drive%20https%3A//www.googleapis.com/auth/devstorage.full_control&request_id=G_RuQp61252zOIF1Ypcri0SGc94QrQ_6EyccuBcqaDw&tc=3PnLwhv8y1Qwlsf9V19GrEjKgDj2xGh3gDJBx9a-L-A&cc=wFLkFguMnTB6FLQCDt7V-rmcsz4rUHsXmpNBixKpc50>https://code.earthengine.google.com/client-auth?scopes=https%3A//www.googleapis.com/auth/earthengine%20https%3A//www.googleapis.com/auth/cloud-platform%20https%3A//www.googleapis.com/auth/drive%20https%3A//www.googleapis.com/auth/devstorage.full_control&request_id=G_RuQp61252zOIF1Ypcri0SGc94QrQ_6EyccuBcqaDw&tc=3PnLwhv8y1Qwlsf9V19GrEjKgDj2xGh3gDJBx9a-L-A&cc=wFLkFguMnTB6FLQCDt7V-rmcsz4rUHsXmpNBixKpc50</a></p>\n",
       "        <p>The authorization workflow will generate a code, which you should paste in the box below.</p>\n",
       "        "
      ],
      "text/plain": [
       "<IPython.core.display.HTML object>"
      ]
     },
     "metadata": {},
     "output_type": "display_data"
    },
    {
     "name": "stdout",
     "output_type": "stream",
     "text": [
      "\n",
      "Successfully saved authorization token.\n"
     ]
    }
   ],
   "source": [
    "#Nos autenticamos y iniciamos ee\n",
    "ee.Authenticate()"
   ]
  },
  {
   "cell_type": "code",
   "execution_count": 5,
   "id": "a7b51468-4a5b-4c9e-b1b8-fd686ba338a0",
   "metadata": {},
   "outputs": [
    {
     "data": {
      "text/html": [
       "\n",
       "            <style>\n",
       "                .geemap-dark {\n",
       "                    --jp-widgets-color: white;\n",
       "                    --jp-widgets-label-color: white;\n",
       "                    --jp-ui-font-color1: white;\n",
       "                    --jp-layout-color2: #454545;\n",
       "                    background-color: #383838;\n",
       "                }\n",
       "\n",
       "                .geemap-dark .jupyter-button {\n",
       "                    --jp-layout-color3: #383838;\n",
       "                }\n",
       "\n",
       "                .geemap-colab {\n",
       "                    background-color: var(--colab-primary-surface-color, white);\n",
       "                }\n",
       "\n",
       "                .geemap-colab .jupyter-button {\n",
       "                    --jp-layout-color3: var(--colab-primary-surface-color, white);\n",
       "                }\n",
       "            </style>\n",
       "            "
      ],
      "text/plain": [
       "<IPython.core.display.HTML object>"
      ]
     },
     "metadata": {},
     "output_type": "display_data"
    }
   ],
   "source": [
    "ee.Initialize()"
   ]
  },
  {
   "cell_type": "code",
   "execution_count": 6,
   "id": "c25dc969-3653-443a-88b6-618a78d1dd8d",
   "metadata": {},
   "outputs": [
    {
     "data": {
      "text/html": [
       "\n",
       "            <style>\n",
       "                .geemap-dark {\n",
       "                    --jp-widgets-color: white;\n",
       "                    --jp-widgets-label-color: white;\n",
       "                    --jp-ui-font-color1: white;\n",
       "                    --jp-layout-color2: #454545;\n",
       "                    background-color: #383838;\n",
       "                }\n",
       "\n",
       "                .geemap-dark .jupyter-button {\n",
       "                    --jp-layout-color3: #383838;\n",
       "                }\n",
       "\n",
       "                .geemap-colab {\n",
       "                    background-color: var(--colab-primary-surface-color, white);\n",
       "                }\n",
       "\n",
       "                .geemap-colab .jupyter-button {\n",
       "                    --jp-layout-color3: var(--colab-primary-surface-color, white);\n",
       "                }\n",
       "            </style>\n",
       "            "
      ],
      "text/plain": [
       "<IPython.core.display.HTML object>"
      ]
     },
     "metadata": {},
     "output_type": "display_data"
    }
   ],
   "source": [
    "#Creamos nuestro primer mapa para visualizar\n",
    "Map = geemap.Map()"
   ]
  },
  {
   "cell_type": "code",
   "execution_count": 7,
   "id": "22f9af8c",
   "metadata": {},
   "outputs": [
    {
     "data": {
      "text/html": [
       "\n",
       "            <style>\n",
       "                .geemap-dark {\n",
       "                    --jp-widgets-color: white;\n",
       "                    --jp-widgets-label-color: white;\n",
       "                    --jp-ui-font-color1: white;\n",
       "                    --jp-layout-color2: #454545;\n",
       "                    background-color: #383838;\n",
       "                }\n",
       "\n",
       "                .geemap-dark .jupyter-button {\n",
       "                    --jp-layout-color3: #383838;\n",
       "                }\n",
       "\n",
       "                .geemap-colab {\n",
       "                    background-color: var(--colab-primary-surface-color, white);\n",
       "                }\n",
       "\n",
       "                .geemap-colab .jupyter-button {\n",
       "                    --jp-layout-color3: var(--colab-primary-surface-color, white);\n",
       "                }\n",
       "            </style>\n",
       "            "
      ],
      "text/plain": [
       "<IPython.core.display.HTML object>"
      ]
     },
     "metadata": {},
     "output_type": "display_data"
    },
    {
     "name": "stdout",
     "output_type": "stream",
     "text": [
      "Reflectancias medias en área 10x10 m: {'AOT': 182.5, 'B1': 1017.9795321637428, 'B11': 4085.5760233918127, 'B12': 2951.0058479532163, 'B2': 1620.3040935672516, 'B3': 1946.7894736842106, 'B4': 2615.0643274853796, 'B5': 3077.9853801169593, 'B6': 3199.472222222222, 'B7': 3412.980994152047, 'B8': 3452.5877192982457, 'B8A': 3751.3918128654973, 'B9': 3543.9269005847955, 'MSK_CLASSI_CIRRUS': 0, 'MSK_CLASSI_OPAQUE': 0, 'MSK_CLASSI_SNOW_ICE': 0, 'MSK_CLDPRB': 0, 'MSK_SNWPRB': 0, 'QA10': None, 'QA20': None, 'QA60': 0, 'SCL': 5, 'TCI_B': 165.280701754386, 'TCI_G': 198.23684210526318, 'TCI_R': 249.65204678362574, 'WVP': 1343.7134502923977}\n"
     ]
    }
   ],
   "source": [
    "# 1. Definir un punto (Vertedero de Burgos)\n",
    "\n",
    "point = ee.Geometry.Point([-3.663863749008054\n",
    ", 42.31458303530395])\n",
    "\n",
    "# Creamos un área de 10x10 metros alrededor del punto\n",
    "# Buffer de 5 m -> bounds() -> rectángulo de 10m x 10m\n",
    "aoi_10m = point.buffer(5).bounds()\n",
    "\n",
    "# 2. Cargar Sentinel-2 Harmonized\n",
    "s2 = (ee.ImageCollection(\"COPERNICUS/S2_SR_HARMONIZED\")\n",
    "      .filterDate(\"2025-01-01\", \"2025-10-01\")   # rango de fechas\n",
    "      .filterBounds(point)\n",
    "      .filter(ee.Filter.lte(\"CLOUDY_PIXEL_PERCENTAGE\", 5)))  # menos del 5% de nubes\n",
    "\n",
    "img_cant =  s2.count().getInfo()  # Número de imágenes\n",
    "# Sacamos la media imagen\n",
    "image = s2.median().clip(aoi_10m)\n",
    "\n",
    "# 3. Calcular reflectancias medias en el área 10x10 m\n",
    "\n",
    "vals = image.reduceRegion(\n",
    "    reducer=ee.Reducer.mean(),   \n",
    "    geometry=aoi_10m,\n",
    "    scale=10\n",
    ").getInfo()\n",
    "\n",
    "print(\"Reflectancias medias en área 10x10 m:\", vals)\n"
   ]
  },
  {
   "cell_type": "code",
   "execution_count": 8,
   "id": "f01790e8",
   "metadata": {},
   "outputs": [
    {
     "data": {
      "text/html": [
       "\n",
       "            <style>\n",
       "                .geemap-dark {\n",
       "                    --jp-widgets-color: white;\n",
       "                    --jp-widgets-label-color: white;\n",
       "                    --jp-ui-font-color1: white;\n",
       "                    --jp-layout-color2: #454545;\n",
       "                    background-color: #383838;\n",
       "                }\n",
       "\n",
       "                .geemap-dark .jupyter-button {\n",
       "                    --jp-layout-color3: #383838;\n",
       "                }\n",
       "\n",
       "                .geemap-colab {\n",
       "                    background-color: var(--colab-primary-surface-color, white);\n",
       "                }\n",
       "\n",
       "                .geemap-colab .jupyter-button {\n",
       "                    --jp-layout-color3: var(--colab-primary-surface-color, white);\n",
       "                }\n",
       "            </style>\n",
       "            "
      ],
      "text/plain": [
       "<IPython.core.display.HTML object>"
      ]
     },
     "metadata": {},
     "output_type": "display_data"
    }
   ],
   "source": [
    "# Convertimos el punto a proyección UTM (EPSG:25830)\n",
    "point_proj = point.transform('EPSG:25830', 1)\n",
    "\n",
    "coords = point_proj.coordinates().getInfo()\n",
    "x, y = coords  # en metros UTM\n",
    "\n",
    "cell_size = 10  # metros\n",
    "\n",
    "offsets = {\n",
    "    \"center\": (0, 0),\n",
    "    \"N\": (0, cell_size),\n",
    "    \"NE\": (cell_size, cell_size),\n",
    "    \"E\": (cell_size, 0),\n",
    "    \"SE\": (cell_size, -cell_size),\n",
    "    \"S\": (0, -cell_size),\n",
    "    \"SW\": (-cell_size, -cell_size),\n",
    "    \"W\": (-cell_size, 0),\n",
    "    \"NW\": (-cell_size, cell_size)\n",
    "}\n",
    "\n",
    "results_dict = {}\n",
    "\n",
    "for name, (dx, dy) in offsets.items():\n",
    "    shifted = ee.Geometry.Point([x + dx, y + dy], 'EPSG:25830')\n",
    "    aoi = shifted.buffer(5).bounds()\n",
    "\n",
    "    vals = image.reduceRegion(\n",
    "        reducer=ee.Reducer.mean(),\n",
    "        geometry=aoi,\n",
    "        scale=10,\n",
    "        crs='EPSG:25830',\n",
    "        maxPixels=1e9\n",
    "    ).getInfo()\n",
    "    \n",
    "    results_dict[name] = vals\n"
   ]
  },
  {
   "cell_type": "code",
   "execution_count": 9,
   "id": "9ec2299a",
   "metadata": {},
   "outputs": [
    {
     "data": {
      "text/html": [
       "\n",
       "            <style>\n",
       "                .geemap-dark {\n",
       "                    --jp-widgets-color: white;\n",
       "                    --jp-widgets-label-color: white;\n",
       "                    --jp-ui-font-color1: white;\n",
       "                    --jp-layout-color2: #454545;\n",
       "                    background-color: #383838;\n",
       "                }\n",
       "\n",
       "                .geemap-dark .jupyter-button {\n",
       "                    --jp-layout-color3: #383838;\n",
       "                }\n",
       "\n",
       "                .geemap-colab {\n",
       "                    background-color: var(--colab-primary-surface-color, white);\n",
       "                }\n",
       "\n",
       "                .geemap-colab .jupyter-button {\n",
       "                    --jp-layout-color3: var(--colab-primary-surface-color, white);\n",
       "                }\n",
       "            </style>\n",
       "            "
      ],
      "text/plain": [
       "<IPython.core.display.HTML object>"
      ]
     },
     "metadata": {},
     "output_type": "display_data"
    },
    {
     "name": "stdout",
     "output_type": "stream",
     "text": [
      "{'center': {'AOT': 182.5, 'B1': 1019.7569169960475, 'B11': 4100.683794466404, 'B12': 2993.916996047431, 'B2': 1646.7628458498025, 'B3': 1993.604743083004, 'B4': 2695.086956521739, 'B5': 3100.9644268774705, 'B6': 3234.448616600791, 'B7': 3447.195652173913, 'B8': 3539.505928853755, 'B8A': 3782.4960474308305, 'B9': 3593.693675889328, 'MSK_CLASSI_CIRRUS': 0, 'MSK_CLASSI_OPAQUE': 0, 'MSK_CLASSI_SNOW_ICE': 0, 'MSK_CLDPRB': 0, 'MSK_SNWPRB': 0, 'QA10': None, 'QA20': None, 'QA60': 0, 'SCL': 5, 'TCI_B': 168.08498023715413, 'TCI_G': 203.07509881422925, 'TCI_R': 251.99802371541503, 'WVP': 1346.887351778656}, 'N': {'AOT': 182.5, 'B1': 1028.5, 'B11': 4175, 'B12': 3205, 'B2': 1653.7578947368422, 'B3': 2047.105263157895, 'B4': 2827, 'B5': 3214, 'B6': 3406.5, 'B7': 3615.5, 'B8': 3697.9684210526316, 'B8A': 3935.5, 'B9': 3838.5, 'MSK_CLASSI_CIRRUS': 0, 'MSK_CLASSI_OPAQUE': 0, 'MSK_CLASSI_SNOW_ICE': 0, 'MSK_CLDPRB': 0, 'MSK_SNWPRB': 0, 'QA10': None, 'QA20': None, 'QA60': 0, 'SCL': 5, 'TCI_B': 168.87894736842105, 'TCI_G': 208.81052631578947, 'TCI_R': 255, 'WVP': 1362.5}, 'NE': {'AOT': 182.5, 'B1': 1028.5, 'B11': 4175, 'B12': 3205, 'B2': 1691, 'B3': 2099, 'B4': 2914, 'B5': 3214, 'B6': 3406.5, 'B7': 3615.5, 'B8': 3766.5, 'B8A': 3935.5, 'B9': 3838.5, 'MSK_CLASSI_CIRRUS': 0, 'MSK_CLASSI_OPAQUE': 0, 'MSK_CLASSI_SNOW_ICE': 0, 'MSK_CLDPRB': 0, 'MSK_SNWPRB': 0, 'QA10': None, 'QA20': None, 'QA60': 0, 'SCL': 5, 'TCI_B': 173, 'TCI_G': 214, 'TCI_R': 255, 'WVP': 1362.5}, 'E': {'AOT': 182.5, 'B1': 1019.7051282051282, 'B11': 4100.24358974359, 'B12': 2992.6666666666665, 'B2': 1696.0256410256409, 'B3': 2063.8205128205127, 'B4': 2800.2948717948716, 'B5': 3100.2948717948716, 'B6': 3233.429487179487, 'B7': 3446.1987179487182, 'B8': 3644.3141025641025, 'B8A': 3781.589743589743, 'B9': 3592.2435897435894, 'MSK_CLASSI_CIRRUS': 0, 'MSK_CLASSI_OPAQUE': 0, 'MSK_CLASSI_SNOW_ICE': 0, 'MSK_CLDPRB': 0, 'MSK_SNWPRB': 0, 'QA10': None, 'QA20': None, 'QA60': 0, 'SCL': 5, 'TCI_B': 173.31410256410257, 'TCI_G': 210.23076923076923, 'TCI_R': 255, 'WVP': 1346.7948717948716}, 'SE': {'AOT': 182.5, 'B1': 1014.5, 'B11': 4056, 'B12': 2867, 'B2': 1699, 'B3': 2043, 'B4': 2733, 'B5': 3033, 'B6': 3131, 'B7': 3346, 'B8': 3572, 'B8A': 3690.5, 'B9': 3446.5, 'MSK_CLASSI_CIRRUS': 0, 'MSK_CLASSI_OPAQUE': 0, 'MSK_CLASSI_SNOW_ICE': 0, 'MSK_CLDPRB': 0, 'MSK_SNWPRB': 0, 'QA10': None, 'QA20': None, 'QA60': 0, 'SCL': 5, 'TCI_B': 173.5, 'TCI_G': 208, 'TCI_R': 255, 'WVP': 1337.5}, 'S': {'AOT': 182.5, 'B1': 1014.5, 'B11': 4056, 'B12': 2867, 'B2': 1643.442105263158, 'B3': 1962.7157894736843, 'B4': 2617.6105263157897, 'B5': 3033, 'B6': 3131, 'B7': 3346, 'B8': 3446.2315789473687, 'B8A': 3690.5, 'B9': 3446.5, 'MSK_CLASSI_CIRRUS': 0, 'MSK_CLASSI_OPAQUE': 0, 'MSK_CLASSI_SNOW_ICE': 0, 'MSK_CLDPRB': 0, 'MSK_SNWPRB': 0, 'QA10': None, 'QA20': None, 'QA60': 0, 'SCL': 5, 'TCI_B': 167.70000000000002, 'TCI_G': 199.75789473684213, 'TCI_R': 250.26842105263157, 'WVP': 1337.5}, 'SW': {'AOT': 182.5, 'B1': 1014.5, 'B11': 4056, 'B12': 2867, 'B2': 1517, 'B3': 1780, 'B4': 2355, 'B5': 3033, 'B6': 3131, 'B7': 3346, 'B8': 3160, 'B8A': 3690.5, 'B9': 3446.5, 'MSK_CLASSI_CIRRUS': 0, 'MSK_CLASSI_OPAQUE': 0, 'MSK_CLASSI_SNOW_ICE': 0, 'MSK_CLDPRB': 0, 'MSK_SNWPRB': 0, 'QA10': None, 'QA20': None, 'QA60': 0, 'SCL': 5, 'TCI_B': 154.5, 'TCI_G': 181, 'TCI_R': 239.5, 'WVP': 1337.5}, 'W': {'AOT': 182.5, 'B1': 1019.7051282051282, 'B11': 4100.24358974359, 'B12': 2992.6666666666665, 'B2': 1536.3333333333333, 'B3': 1835.397435897436, 'B4': 2456.8717948717945, 'B5': 3100.2948717948716, 'B6': 3233.429487179487, 'B7': 3446.1987179487182, 'B8': 3302.0256410256407, 'B8A': 3781.589743589743, 'B9': 3592.2435897435894, 'MSK_CLASSI_CIRRUS': 0, 'MSK_CLASSI_OPAQUE': 0, 'MSK_CLASSI_SNOW_ICE': 0, 'MSK_CLDPRB': 0, 'MSK_SNWPRB': 0, 'QA10': None, 'QA20': None, 'QA60': 0, 'SCL': 5, 'TCI_B': 156.35897435897434, 'TCI_G': 186.94871794871796, 'TCI_R': 245.26282051282053, 'WVP': 1346.7948717948716}, 'NW': {'AOT': 182.5, 'B1': 1028.5, 'B11': 4175, 'B12': 3205, 'B2': 1569, 'B3': 1929, 'B4': 2629, 'B5': 3214, 'B6': 3406.5, 'B7': 3615.5, 'B8': 3542, 'B8A': 3935.5, 'B9': 3838.5, 'MSK_CLASSI_CIRRUS': 0, 'MSK_CLASSI_OPAQUE': 0, 'MSK_CLASSI_SNOW_ICE': 0, 'MSK_CLDPRB': 0, 'MSK_SNWPRB': 0, 'QA10': None, 'QA20': None, 'QA60': 0, 'SCL': 5, 'TCI_B': 159.5, 'TCI_G': 197, 'TCI_R': 255, 'WVP': 1362.5}}\n"
     ]
    }
   ],
   "source": [
    "print(results_dict)"
   ]
  },
  {
   "cell_type": "code",
   "execution_count": 10,
   "id": "0af9f1d4",
   "metadata": {},
   "outputs": [
    {
     "data": {
      "text/html": [
       "\n",
       "            <style>\n",
       "                .geemap-dark {\n",
       "                    --jp-widgets-color: white;\n",
       "                    --jp-widgets-label-color: white;\n",
       "                    --jp-ui-font-color1: white;\n",
       "                    --jp-layout-color2: #454545;\n",
       "                    background-color: #383838;\n",
       "                }\n",
       "\n",
       "                .geemap-dark .jupyter-button {\n",
       "                    --jp-layout-color3: #383838;\n",
       "                }\n",
       "\n",
       "                .geemap-colab {\n",
       "                    background-color: var(--colab-primary-surface-color, white);\n",
       "                }\n",
       "\n",
       "                .geemap-colab .jupyter-button {\n",
       "                    --jp-layout-color3: var(--colab-primary-surface-color, white);\n",
       "                }\n",
       "            </style>\n",
       "            "
      ],
      "text/plain": [
       "<IPython.core.display.HTML object>"
      ]
     },
     "metadata": {},
     "output_type": "display_data"
    },
    {
     "name": "stdout",
     "output_type": "stream",
     "text": [
      "Imagen usada: S2B_MSIL2A_20250115T111319_N0511_R137_T30TVM_20250115T133241\n",
      "Offset center (-3.66386375, 42.31458304): {'AOT': 57, 'B1': 472.1699604743083, 'B11': 2108.1581027667985, 'B12': 1450.810276679842, 'B2': 835.1541501976285, 'B3': 995.8102766798419, 'B4': 1462.086956521739, 'B5': 1582.0395256916995, 'B6': 1730.8893280632412, 'B7': 1899.723320158103, 'B8': 2118.2924901185775, 'B8A': 2214.490118577075, 'B9': 2080.474308300395, 'MSK_CLASSI_CIRRUS': 0, 'MSK_CLASSI_OPAQUE': 0, 'MSK_CLASSI_SNOW_ICE': 0, 'MSK_CLDPRB': 0, 'MSK_SNWPRB': 0, 'QA10': None, 'QA20': None, 'QA60': 0, 'SCL': 5, 'TCI_B': 84.17391304347827, 'TCI_G': 102.82213438735177, 'TCI_R': 149.42687747035572, 'WVP': 337.3201581027668}\n",
      "Offset N (-3.66386375, 42.31467313): {'AOT': 57, 'B1': 529, 'B11': 1992, 'B12': 1369, 'B2': 675.5138339920949, 'B3': 798.4901185770751, 'B4': 1190.505928853755, 'B5': 1316, 'B6': 1433, 'B7': 1550, 'B8': 1830.5533596837945, 'B8A': 1886, 'B9': 2206, 'MSK_CLASSI_CIRRUS': 0, 'MSK_CLASSI_OPAQUE': 0, 'MSK_CLASSI_SNOW_ICE': 0, 'MSK_CLDPRB': 0, 'MSK_SNWPRB': 0, 'QA10': None, 'QA20': None, 'QA60': 0, 'SCL': 5, 'TCI_B': 66.91304347826087, 'TCI_G': 81.35573122529644, 'TCI_R': 121.00000000000001, 'WVP': 268}\n",
      "Offset NE (-3.66374176, 42.31467313): {'AOT': 57, 'B1': 529, 'B11': 2331.114624505929, 'B12': 1727.8142292490118, 'B2': 781.0434782608696, 'B3': 876.4822134387351, 'B4': 1353.509881422925, 'B5': 1868.292490118577, 'B6': 1923.3794466403162, 'B7': 2026.308300395257, 'B8': 2114.98023715415, 'B8A': 2332.0553359683795, 'B9': 2206, 'MSK_CLASSI_CIRRUS': 0, 'MSK_CLASSI_OPAQUE': 0, 'MSK_CLASSI_SNOW_ICE': 0, 'MSK_CLDPRB': 0, 'MSK_SNWPRB': 0, 'QA10': None, 'QA20': None, 'QA60': 0, 'SCL': 5, 'TCI_B': 79.1304347826087, 'TCI_G': 90.21739130434781, 'TCI_R': 137.97233201581025, 'WVP': 312.32411067193675}\n",
      "Offset E (-3.66374176, 42.31458304): {'AOT': 57, 'B1': 472.1699604743083, 'B11': 2340.853754940712, 'B12': 1689.9407114624505, 'B2': 1074.3873517786562, 'B3': 1263.4664031620553, 'B4': 1795.3913043478262, 'B5': 1941.604743083004, 'B6': 2063.584980237154, 'B7': 2227.6363636363635, 'B8': 2529.122529644269, 'B8A': 2502.9249011857705, 'B9': 2080.474308300395, 'MSK_CLASSI_CIRRUS': 0, 'MSK_CLASSI_OPAQUE': 0, 'MSK_CLASSI_SNOW_ICE': 0, 'MSK_CLDPRB': 0, 'MSK_SNWPRB': 0, 'QA10': None, 'QA20': None, 'QA60': 0, 'SCL': 5, 'TCI_B': 109.49802371541502, 'TCI_G': 129.96047430830038, 'TCI_R': 183.0711462450593, 'WVP': 354.1897233201581}\n",
      "Offset SE (-3.66374176, 42.31449295): {'AOT': 57, 'B1': 438, 'B11': 2347.8571428571427, 'B12': 1668.4761904761904, 'B2': 1186.1746031746031, 'B3': 1365.3730158730157, 'B4': 1892.8412698412696, 'B5': 1987.8095238095236, 'B6': 2149.5952380952376, 'B7': 2350.285714285714, 'B8': 2606.1309523809523, 'B8A': 2607.404761904762, 'B9': 2005, 'MSK_CLASSI_CIRRUS': 0, 'MSK_CLASSI_OPAQUE': 0, 'MSK_CLASSI_SNOW_ICE': 0, 'MSK_CLDPRB': 0, 'MSK_SNWPRB': 0, 'QA10': None, 'QA20': None, 'QA60': 0, 'SCL': 5, 'TCI_B': 122.78174603174602, 'TCI_G': 139.14285714285714, 'TCI_R': 192.37698412698413, 'WVP': 379.6904761904762}\n",
      "Offset S (-3.66386375, 42.31449295): {'AOT': 57, 'B1': 438, 'B11': 2178, 'B12': 1500, 'B2': 868.1739130434783, 'B3': 1120.9723320158103, 'B4': 1609.3438735177865, 'B5': 1742, 'B6': 1910, 'B7': 2110, 'B8': 2328.0553359683795, 'B8A': 2412, 'B9': 2005, 'MSK_CLASSI_CIRRUS': 0, 'MSK_CLASSI_OPAQUE': 0, 'MSK_CLASSI_SNOW_ICE': 0, 'MSK_CLDPRB': 0, 'MSK_SNWPRB': 0, 'QA10': None, 'QA20': None, 'QA60': 0, 'SCL': 5, 'TCI_B': 89.79841897233202, 'TCI_G': 114.54545454545452, 'TCI_R': 163.50197628458497, 'WVP': 379}\n",
      "Offset SW (-3.66398573, 42.31449295): {'AOT': 57, 'B1': 438, 'B11': 2065.944664031621, 'B12': 1399.1501976284583, 'B2': 756.2766798418971, 'B3': 957.1620553359685, 'B4': 1347.01185770751, 'B5': 1541.901185770751, 'B6': 1816.8339920948615, 'B7': 2038.6047430830038, 'B8': 2190.2450592885375, 'B8A': 2333.881422924901, 'B9': 2005, 'MSK_CLASSI_CIRRUS': 0, 'MSK_CLASSI_OPAQUE': 0, 'MSK_CLASSI_SNOW_ICE': 0, 'MSK_CLDPRB': 0, 'MSK_SNWPRB': 0, 'QA10': None, 'QA20': None, 'QA60': 0, 'SCL': 5, 'TCI_B': 76.8893280632411, 'TCI_G': 97.89328063241106, 'TCI_R': 137.5691699604743, 'WVP': 306.9644268774704}\n",
      "Offset W (-3.66398573, 42.31458304): {'AOT': 57, 'B1': 472.16996047430825, 'B11': 2041.00395256917, 'B12': 1389.8616600790515, 'B2': 782.9249011857708, 'B3': 905.683794466403, 'B4': 1329.8023715415018, 'B5': 1445.596837944664, 'B6': 1671.7193675889328, 'B7': 1865.375494071146, 'B8': 2071.462450592885, 'B8A': 2178.9565217391305, 'B9': 2080.474308300395, 'MSK_CLASSI_CIRRUS': 0, 'MSK_CLASSI_OPAQUE': 0, 'MSK_CLASSI_SNOW_ICE': 0, 'MSK_CLDPRB': 0, 'MSK_SNWPRB': 0, 'QA10': None, 'QA20': None, 'QA60': 0, 'SCL': 5, 'TCI_B': 79.89328063241106, 'TCI_G': 92.3794466403162, 'TCI_R': 135.90513833992094, 'WVP': 278.98023715415013}\n",
      "Offset NW (-3.66398573, 42.31467313): {'AOT': 57, 'B1': 529, 'B11': 1997.220472440945, 'B12': 1372.3779527559054, 'B2': 765.1889763779528, 'B3': 900.4291338582677, 'B4': 1302.8976377952758, 'B5': 1282.527559055118, 'B6': 1428.7007874015749, 'B7': 1575.1811023622047, 'B8': 1985.9212598425195, 'B8A': 1918.8582677165355, 'B9': 2206, 'MSK_CLASSI_CIRRUS': 0, 'MSK_CLASSI_OPAQUE': 0, 'MSK_CLASSI_SNOW_ICE': 0, 'MSK_CLDPRB': 0, 'MSK_SNWPRB': 0, 'QA10': None, 'QA20': None, 'QA60': 0, 'SCL': 5, 'TCI_B': 78.51968503937009, 'TCI_G': 91.77165354330708, 'TCI_R': 132.26377952755905, 'WVP': 232.0708661417323}\n"
     ]
    }
   ],
   "source": [
    "# 1. Definir un punto (Vertedero de Burgos)\n",
    "long = -3.663863749008054\n",
    "lat = 42.31458303530395\n",
    "\n",
    "# Convertir 10 metros a grados aproximadamente\n",
    "# 1 grado de latitud ≈ 111,000 metros\n",
    "# 1 grado de longitud ≈ 111,000 * cos(latitud) metros\n",
    "cell_size_lat = 10 / 111000  # ~0.00009 grados\n",
    "cell_size_long = 10 / (111000 * abs(lat * 3.14159 / 180))  # ajustado por latitud\n",
    "\n",
    "\n",
    "offsets = {\n",
    "    \"center\": (long, lat),\n",
    "    \"N\": (long, lat + cell_size_lat),\n",
    "    \"NE\": (long + cell_size_long, lat + cell_size_lat),\n",
    "    \"E\": (long + cell_size_long, lat),\n",
    "    \"SE\": (long + cell_size_long, lat - cell_size_lat),\n",
    "    \"S\": (long, lat - cell_size_lat),\n",
    "    \"SW\": (long - cell_size_long, lat - cell_size_lat),\n",
    "    \"W\": (long - cell_size_long, lat),\n",
    "    \"NW\": (long - cell_size_long, lat + cell_size_lat)\n",
    "}\n",
    "\n",
    "point = ee.Geometry.Point(offsets[\"center\"])\n",
    "\n",
    "# 2. Cargar Sentinel-2 Harmonized\n",
    "s2 = (ee.ImageCollection(\"COPERNICUS/S2_SR_HARMONIZED\")\n",
    "      .filterDate(\"2025-01-01\", \"2025-10-01\")   # rango de fechas\n",
    "      .filterBounds(point)\n",
    "      .filter(ee.Filter.lte(\"CLOUDY_PIXEL_PERCENTAGE\", 5)))  # menos del 5% de nubes\n",
    "\n",
    "image = s2.first()\n",
    "print(\"Imagen usada:\", image.get(\"PRODUCT_ID\").getInfo())\n",
    "\n",
    "results_dict = {}\n",
    "\n",
    "for name, coords in offsets.items():\n",
    "    # Creamos un punto y area para cada offset\n",
    "    point = ee.Geometry.Point(coords)\n",
    "    aoi = point.buffer(5).bounds()\n",
    "\n",
    "    # Extraemos las reflectancias medias\n",
    "    vals = image.reduceRegion(\n",
    "        reducer=ee.Reducer.mean(),\n",
    "        geometry=aoi,\n",
    "        scale=10\n",
    "    ).getInfo()\n",
    "    \n",
    "    results_dict[name] = vals\n",
    "    print(f\"Offset {name} ({coords[0]:.8f}, {coords[1]:.8f}): {vals}\")"
   ]
  },
  {
   "cell_type": "code",
   "execution_count": 13,
   "id": "89c945ee",
   "metadata": {},
   "outputs": [
    {
     "data": {
      "text/html": [
       "\n",
       "            <style>\n",
       "                .geemap-dark {\n",
       "                    --jp-widgets-color: white;\n",
       "                    --jp-widgets-label-color: white;\n",
       "                    --jp-ui-font-color1: white;\n",
       "                    --jp-layout-color2: #454545;\n",
       "                    background-color: #383838;\n",
       "                }\n",
       "\n",
       "                .geemap-dark .jupyter-button {\n",
       "                    --jp-layout-color3: #383838;\n",
       "                }\n",
       "\n",
       "                .geemap-colab {\n",
       "                    background-color: var(--colab-primary-surface-color, white);\n",
       "                }\n",
       "\n",
       "                .geemap-colab .jupyter-button {\n",
       "                    --jp-layout-color3: var(--colab-primary-surface-color, white);\n",
       "                }\n",
       "            </style>\n",
       "            "
      ],
      "text/plain": [
       "<IPython.core.display.HTML object>"
      ]
     },
     "metadata": {},
     "output_type": "display_data"
    },
    {
     "name": "stdout",
     "output_type": "stream",
     "text": [
      "Bandas disponibles: ['A00', 'A01', 'A02', 'A03', 'A04', 'A05', 'A06', 'A07', 'A08', 'A09', 'A10', 'A11', 'A12', 'A13', 'A14', 'A15', 'A16', 'A17', 'A18', 'A19', 'A20', 'A21', 'A22', 'A23', 'A24', 'A25', 'A26', 'A27', 'A28', 'A29', 'A30', 'A31', 'A32', 'A33', 'A34', 'A35', 'A36', 'A37', 'A38', 'A39', 'A40', 'A41', 'A42', 'A43', 'A44', 'A45', 'A46', 'A47', 'A48', 'A49', 'A50', 'A51', 'A52', 'A53', 'A54', 'A55', 'A56', 'A57', 'A58', 'A59', 'A60', 'A61', 'A62', 'A63']\n"
     ]
    },
    {
     "data": {
      "application/vnd.jupyter.widget-view+json": {
       "model_id": "5531fb69d8374c90a3c00b6e94d4d396",
       "version_major": 2,
       "version_minor": 0
      },
      "text/plain": [
       "Map(bottom=388296.0, center=[42.31458303530395, -3.6638637490080543], controls=(WidgetControl(options=['positi…"
      ]
     },
     "execution_count": 13,
     "metadata": {},
     "output_type": "execute_result"
    }
   ],
   "source": [
    "# Punto del vertedero Koshe (Addis Ababa)\n",
    "koshe = ee.Geometry.Point([-3.663863749008054,42.31458303530395])\n",
    "\n",
    "# Colección de embeddings AlphaEarth\n",
    "embeddings = ee.ImageCollection('GOOGLE/SATELLITE_EMBEDDING/V1/ANNUAL')\n",
    "year = 2024\n",
    "\n",
    "# Crear un mosaico del año\n",
    "mosaic = embeddings.filterDate(f'{year}-01-01', f'{year + 1}-01-01').mosaic()\n",
    "\n",
    "# Obtener nombres de bandas\n",
    "band_names = mosaic.bandNames()\n",
    "print(\"Bandas disponibles:\", band_names.getInfo())\n",
    "\n",
    "# Extraer una muestra del punto\n",
    "sample = mosaic.sample(region=koshe, scale=10, numPixels=1).first()\n",
    "\n",
    "# Obtener los valores de la muestra como diccionario\n",
    "sample_values = sample.toDictionary()\n",
    "\n",
    "# Convertir la muestra a una imagen constante para cada banda\n",
    "sample_img = ee.Image.constant(0)\n",
    "band_list = band_names.getInfo()\n",
    "\n",
    "for band in band_list:\n",
    "    band_value = sample_values.get(band)\n",
    "    band_img = ee.Image.constant(band_value).rename(band)\n",
    "    sample_img = sample_img.addBands(band_img)\n",
    "\n",
    "# Remover la banda constante inicial\n",
    "sample_img = sample_img.select(band_list)\n",
    "\n",
    "# Calcular la similitud (producto punto entre el píxel y el mosaico)\n",
    "similarity = mosaic.multiply(sample_img).reduce(ee.Reducer.sum())\n",
    "\n",
    "# Visualización\n",
    "palette = ['000004', '2C105C', '711F81', 'B63679', 'EE605E', 'FDAE78', 'FCFDBF', 'FFFFFF']\n",
    "vis_params = {'palette': palette, 'min': 0, 'max': 1}\n",
    "\n",
    "# Mostrar en el mapa\n",
    "Map.addLayer(similarity, vis_params, 'bright = more similar')\n",
    "Map.centerObject(koshe, 11)\n",
    "Map.addLayer(koshe, {'color': 'red'}, 'Koshe Landfill')\n",
    "Map.setOptions('SATELLITE')\n",
    "Map\n"
   ]
  },
  {
   "cell_type": "code",
   "execution_count": null,
   "id": "c6b8f6a4",
   "metadata": {},
   "outputs": [],
   "source": []
  },
  {
   "cell_type": "markdown",
   "id": "52052d23",
   "metadata": {},
   "source": []
  }
 ],
 "metadata": {
  "kernelspec": {
   "display_name": "mi_entorno",
   "language": "python",
   "name": "python3"
  },
  "language_info": {
   "codemirror_mode": {
    "name": "ipython",
    "version": 3
   },
   "file_extension": ".py",
   "mimetype": "text/x-python",
   "name": "python",
   "nbconvert_exporter": "python",
   "pygments_lexer": "ipython3",
   "version": "3.13.7"
  }
 },
 "nbformat": 4,
 "nbformat_minor": 5
}
